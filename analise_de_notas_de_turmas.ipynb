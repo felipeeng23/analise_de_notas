{
  "nbformat": 4,
  "nbformat_minor": 0,
  "metadata": {
    "colab": {
      "provenance": [],
      "authorship_tag": "ABX9TyO1X7XPL7eG88Z/Sw7czenz",
      "include_colab_link": true
    },
    "kernelspec": {
      "name": "python3",
      "display_name": "Python 3"
    },
    "language_info": {
      "name": "python"
    }
  },
  "cells": [
    {
      "cell_type": "markdown",
      "metadata": {
        "id": "view-in-github",
        "colab_type": "text"
      },
      "source": [
        "<a href=\"https://colab.research.google.com/github/felipeeng23/analise_de_notas/blob/main/analise_de_notas_de_turmas.ipynb\" target=\"_parent\"><img src=\"https://colab.research.google.com/assets/colab-badge.svg\" alt=\"Open In Colab\"/></a>"
      ]
    },
    {
      "cell_type": "markdown",
      "source": [
        "Análise de notas de duas turmas.\n"
      ],
      "metadata": {
        "id": "vGM0Yhh91nNe"
      }
    },
    {
      "cell_type": "code",
      "execution_count": null,
      "metadata": {
        "colab": {
          "base_uri": "https://localhost:8080/"
        },
        "id": "YCd5L30y1h3C",
        "outputId": "09031a81-6758-4f94-a840-96f3814fa10f"
      },
      "outputs": [
        {
          "output_type": "stream",
          "name": "stdout",
          "text": [
            "Média turma A: 79.0\n",
            "Média turma B: 77.0\n",
            "Soma da turma A: 790\n",
            "Soma da turma B: 770\n",
            "Mediana da turma A: 79.0\n",
            "Mediana da turma B: 75.0\n",
            "Desvio padrão da turma A: 5.744562646538029\n",
            "Desvio padrão da turma B: 16.76305461424021\n",
            "Variação da turma A: 33.0\n",
            "Variação da turma B: 281.0\n",
            "Valor mínimo da turma A: 70\n",
            "Valor mínimo da turma B: 50\n",
            "Valor máximo da turma A: 88\n",
            "Valor máximo da turma B: 100\n",
            "Índice do valor mínimo da turma A: 0\n",
            "Índice do valor mínimo da turma B: 0\n",
            "Índice do valor máximo da turma A: 9\n",
            "Índice do valor máximo da turma B: 5\n"
          ]
        }
      ],
      "source": [
        "import numpy as np\n",
        "\n",
        "\n",
        "notas_turma_A = [70, 72, 74, 76, 78, 80, 82, 84, 86, 88]\n",
        "notas_turma_B = [50, 60, 70, 80, 90, 100, 70, 60, 90, 100]\n",
        "\n",
        "notas_turma_A_array = np.array(notas_turma_A)\n",
        "notas_turma_B_array = np.array(notas_turma_B)\n",
        "\n",
        "#média da turma\n",
        "media_turma_A = np.mean(notas_turma_A_array)\n",
        "print('Média turma A:', media_turma_A)\n",
        "media_turma_B = np.mean(notas_turma_B_array)\n",
        "print('Média turma B:', media_turma_B)\n",
        "\n",
        "#soma de todas as notas da turma\n",
        "soma_turma_A=np.sum(notas_turma_A_array)\n",
        "print('Soma da turma A:', soma_turma_A)\n",
        "soma_turma_B=np.sum(notas_turma_B_array)\n",
        "print('Soma da turma B:', soma_turma_B)\n",
        "\n",
        "#mediana da turma\n",
        "mediana_turma_A=np.median(notas_turma_A_array) #ordena os valores antes de pegar a mediana - o valor do meio\n",
        "print('Mediana da turma A:', mediana_turma_A)\n",
        "mediana_turma_B=np.median(notas_turma_B_array) #ordena os valores antes de pegar a mediana - o valor do meio\n",
        "print('Mediana da turma B:', mediana_turma_B)\n",
        "\n",
        "#desvio-padrão\n",
        "desvio_padrao_A=np.std(notas_turma_A_array)\n",
        "print('Desvio padrão da turma A:', desvio_padrao_A)\n",
        "desvio_padrao_B=np.std(notas_turma_B_array)\n",
        "print('Desvio padrão da turma B:', desvio_padrao_B)\n",
        "\n",
        "#variancia\n",
        "variancia_A=np.var(notas_turma_A_array)\n",
        "print('Variação da turma A:', variancia_A)\n",
        "variancia_B=np.var(notas_turma_B_array)\n",
        "print('Variação da turma B:', variancia_B)\n",
        "\n",
        "#valor minimo\n",
        "minimo_A=np.min(notas_turma_A_array)\n",
        "print('Valor mínimo da turma A:', minimo_A)\n",
        "minimo_B=np.min(notas_turma_B_array)\n",
        "print('Valor mínimo da turma B:', minimo_B)\n",
        "\n",
        "#valor maximo\n",
        "maximo_A=np.max(notas_turma_A_array)\n",
        "print('Valor máximo da turma A:', maximo_A)\n",
        "maximo_B=np.max(notas_turma_B_array)\n",
        "print('Valor máximo da turma B:', maximo_B)\n",
        "\n",
        "#indice minimo\n",
        "indice_minimo_A=np.argmin(notas_turma_A_array)\n",
        "print('Índice do valor mínimo da turma A:', indice_minimo_A)\n",
        "indice_minimo_B=np.argmin(notas_turma_B_array)\n",
        "print('Índice do valor mínimo da turma B:', indice_minimo_B)\n",
        "\n",
        "#indice maximo\n",
        "indice_maximo_A=np.argmax(notas_turma_A_array)\n",
        "print('Índice do valor máximo da turma A:', indice_maximo_A)\n",
        "indice_maximo_B=np.argmax(notas_turma_B_array)\n",
        "print('Índice do valor máximo da turma B:', indice_maximo_B)\n"
      ]
    },
    {
      "cell_type": "code",
      "source": [
        "import matplotlib.pyplot as plt\n",
        "\n",
        "#Boxplot para Comparação Visual\n",
        "dados = [notas_turma_A_array, notas_turma_B_array]\n",
        "plt.boxplot(dados, labels=['Turma A', 'Turma B'])\n",
        "plt.title('Dispersão das Notas - Turma A vs Turma B')\n",
        "plt.ylabel('Nota')\n",
        "plt.grid(True)\n",
        "plt.show()"
      ],
      "metadata": {
        "id": "Y2CADUSW19f2",
        "outputId": "60c882ae-4829-46cf-f305-4cab6141033a",
        "colab": {
          "base_uri": "https://localhost:8080/",
          "height": 507
        }
      },
      "execution_count": null,
      "outputs": [
        {
          "output_type": "stream",
          "name": "stderr",
          "text": [
            "<ipython-input-2-393ce5d84fd8>:5: MatplotlibDeprecationWarning: The 'labels' parameter of boxplot() has been renamed 'tick_labels' since Matplotlib 3.9; support for the old name will be dropped in 3.11.\n",
            "  plt.boxplot(dados, labels=['Turma A', 'Turma B'])\n"
          ]
        },
        {
          "output_type": "display_data",
          "data": {
            "text/plain": [
              "<Figure size 640x480 with 1 Axes>"
            ],
            "image/png": "[encoded data removed]"
          },
          "metadata": {}
        }
      ]
    }
  ]
}